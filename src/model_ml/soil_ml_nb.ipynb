{
  "metadata": {
    "kernelspec": {
      "name": "python",
      "display_name": "Python (Pyodide)",
      "language": "python"
    },
    "language_info": {
      "codemirror_mode": {
        "name": "python",
        "version": 3
      },
      "file_extension": ".py",
      "mimetype": "text/x-python",
      "name": "python",
      "nbconvert_exporter": "python",
      "pygments_lexer": "ipython3",
      "version": "3.8"
    }
  },
  "nbformat_minor": 4,
  "nbformat": 4,
  "cells": [
    {
      "cell_type": "code",
      "source": "%pip install seaborn",
      "metadata": {
        "trusted": true
      },
      "outputs": [],
      "execution_count": 2
    },
    {
      "cell_type": "code",
      "source": "import numpy as np\nimport pandas as pd\nimport seaborn as sns\nimport matplotlib.pyplot as plt\n",
      "metadata": {
        "trusted": true,
        "tags": [],
        "editable": true,
        "slideshow": {
          "slide_type": ""
        }
      },
      "outputs": [],
      "execution_count": 3
    },
    {
      "cell_type": "code",
      "source": "data = pd.read_csv('fertilizer.csv')",
      "metadata": {
        "trusted": true
      },
      "outputs": [],
      "execution_count": 4
    },
    {
      "cell_type": "code",
      "source": "data",
      "metadata": {
        "trusted": true
      },
      "outputs": [
        {
          "execution_count": 5,
          "output_type": "execute_result",
          "data": {
            "text/plain": "                    Crop    N   P   K    pH\n0                  Wheat  120  30  60  6.00\n1                  Wheat  120  30  60  6.50\n2                  Wheat  120  30  60  7.00\n3                   Rice   80  40  40  5.50\n4            Barley(JAV)   70  40  45  5.50\n..                   ...  ...  ..  ..   ...\n207  Lentils(Masoor Dal)   20  60  20  5.32\n208               Potato  180  60  90  4.82\n209               Cotton  120  40  20  5.32\n210                 Jute   80  40  40  5.32\n211               Coffee  100  20  30  5.32\n\n[212 rows x 5 columns]",
            "text/html": "<div>\n<style scoped>\n    .dataframe tbody tr th:only-of-type {\n        vertical-align: middle;\n    }\n\n    .dataframe tbody tr th {\n        vertical-align: top;\n    }\n\n    .dataframe thead th {\n        text-align: right;\n    }\n</style>\n<table border=\"1\" class=\"dataframe\">\n  <thead>\n    <tr style=\"text-align: right;\">\n      <th></th>\n      <th>Crop</th>\n      <th>N</th>\n      <th>P</th>\n      <th>K</th>\n      <th>pH</th>\n    </tr>\n  </thead>\n  <tbody>\n    <tr>\n      <th>0</th>\n      <td>Wheat</td>\n      <td>120</td>\n      <td>30</td>\n      <td>60</td>\n      <td>6.00</td>\n    </tr>\n    <tr>\n      <th>1</th>\n      <td>Wheat</td>\n      <td>120</td>\n      <td>30</td>\n      <td>60</td>\n      <td>6.50</td>\n    </tr>\n    <tr>\n      <th>2</th>\n      <td>Wheat</td>\n      <td>120</td>\n      <td>30</td>\n      <td>60</td>\n      <td>7.00</td>\n    </tr>\n    <tr>\n      <th>3</th>\n      <td>Rice</td>\n      <td>80</td>\n      <td>40</td>\n      <td>40</td>\n      <td>5.50</td>\n    </tr>\n    <tr>\n      <th>4</th>\n      <td>Barley(JAV)</td>\n      <td>70</td>\n      <td>40</td>\n      <td>45</td>\n      <td>5.50</td>\n    </tr>\n    <tr>\n      <th>...</th>\n      <td>...</td>\n      <td>...</td>\n      <td>...</td>\n      <td>...</td>\n      <td>...</td>\n    </tr>\n    <tr>\n      <th>207</th>\n      <td>Lentils(Masoor Dal)</td>\n      <td>20</td>\n      <td>60</td>\n      <td>20</td>\n      <td>5.32</td>\n    </tr>\n    <tr>\n      <th>208</th>\n      <td>Potato</td>\n      <td>180</td>\n      <td>60</td>\n      <td>90</td>\n      <td>4.82</td>\n    </tr>\n    <tr>\n      <th>209</th>\n      <td>Cotton</td>\n      <td>120</td>\n      <td>40</td>\n      <td>20</td>\n      <td>5.32</td>\n    </tr>\n    <tr>\n      <th>210</th>\n      <td>Jute</td>\n      <td>80</td>\n      <td>40</td>\n      <td>40</td>\n      <td>5.32</td>\n    </tr>\n    <tr>\n      <th>211</th>\n      <td>Coffee</td>\n      <td>100</td>\n      <td>20</td>\n      <td>30</td>\n      <td>5.32</td>\n    </tr>\n  </tbody>\n</table>\n<p>212 rows × 5 columns</p>\n</div>"
          },
          "metadata": {}
        }
      ],
      "execution_count": 5
    },
    {
      "cell_type": "code",
      "source": "data['Crop'].value_counts()",
      "metadata": {
        "trusted": true
      },
      "outputs": [
        {
          "execution_count": 6,
          "output_type": "execute_result",
          "data": {
            "text/plain": "Rice                     19\nBarley(JAV)              19\nMaize                    19\nChickpeas(Channa)        19\nKidney beans             19\npigeon peas(Toor Dal)    19\nLentils(Masoor Dal)      19\nPotato                   19\nCotton                   19\nJute                     19\nCoffee                   19\nWheat                     3\nName: Crop, dtype: int64"
          },
          "metadata": {}
        }
      ],
      "execution_count": 6
    },
    {
      "cell_type": "code",
      "source": "mask = data['Crop']=='Barley(JAV)'\ndata = data[~mask]\n",
      "metadata": {
        "trusted": true
      },
      "outputs": [],
      "execution_count": 7
    },
    {
      "cell_type": "code",
      "source": "# renaming crops\n\ndata.loc[data['Crop']=='Rice', 'Crop'] = 'rice'\ndata.loc[data['Crop']=='Maize', 'Crop'] = 'maize'\ndata.loc[data['Crop']=='Chickpeas(Channa)', 'Crop'] = 'chickpeas'\ndata.loc[data['Crop']=='Kidney beans', 'Crop'] = 'kidney_bean'\ndata.loc[data['Crop']=='pigeon peas(Toor Dal)', 'Crop'] = 'pigeon_peas'\ndata.loc[data['Crop']=='Lentils(Masoor Dal)', 'Crop'] = 'lentil'\ndata.loc[data['Crop']=='Potato', 'Crop'] = 'potato'\ndata.loc[data['Crop']=='Cotton', 'Crop'] = 'cotton'\ndata.loc[data['Crop']=='Jute', 'Crop'] = 'jute'\ndata.loc[data['Crop']=='Coffee', 'Crop'] = 'coffee'\ndata.loc[data['Crop']=='Wheat', 'Crop'] = 'wheat'\n",
      "metadata": {
        "trusted": true
      },
      "outputs": [],
      "execution_count": 8
    },
    {
      "cell_type": "code",
      "source": "data['Crop'].unique()",
      "metadata": {
        "trusted": true
      },
      "outputs": [
        {
          "execution_count": 9,
          "output_type": "execute_result",
          "data": {
            "text/plain": "array(['wheat', 'rice', 'maize', 'chickpeas', 'kidney_bean',\n       'pigeon_peas', 'lentil', 'potato', 'cotton', 'jute', 'coffee'],\n      dtype=object)"
          },
          "metadata": {}
        }
      ],
      "execution_count": 9
    },
    {
      "cell_type": "code",
      "source": "x = data[['N','P','K','pH']]\ny = data['Crop']\nfrom sklearn.model_selection import train_test_split\nxtrain, xtest, ytrain, ytest = train_test_split(x,y,test_size= 0.2, random_state=2)",
      "metadata": {
        "trusted": true
      },
      "outputs": [],
      "execution_count": 10
    },
    {
      "cell_type": "code",
      "source": "predicted_crop = forest.predict(df)[0]\npredicted_crop",
      "metadata": {
        "trusted": true
      },
      "outputs": [
        {
          "execution_count": 17,
          "output_type": "execute_result",
          "data": {
            "text/plain": "'jute'"
          },
          "metadata": {}
        }
      ],
      "execution_count": 17
    },
    {
      "cell_type": "code",
      "source": "from sklearn.naive_bayes import GaussianNB\n\nbayes = GaussianNB()\n\nbayes.fit(xtrain,ytrain)\n\npredicted_values = bayes.predict(xtest)",
      "metadata": {
        "trusted": true
      },
      "outputs": [],
      "execution_count": 18
    },
    {
      "cell_type": "code",
      "source": "from sklearn.metrics import accuracy_score\naccuracy_score(ytest,predicted_values)  ",
      "metadata": {
        "trusted": true
      },
      "outputs": [
        {
          "execution_count": 19,
          "output_type": "execute_result",
          "data": {
            "text/plain": "0.6153846153846154"
          },
          "metadata": {}
        }
      ],
      "execution_count": 19
    },
    {
      "cell_type": "code",
      "source": "# example prediction\na= {}\na['N'] = 80\na['P'] = 60\na['K'] = 60\na['pH'] = 5.5\ndf = pd.DataFrame(a, columns=['N','P','K','pH'], index=[0])\ndf",
      "metadata": {
        "trusted": true
      },
      "outputs": [
        {
          "execution_count": 14,
          "output_type": "execute_result",
          "data": {
            "text/plain": "    N   P   K   pH\n0  80  60  60  5.5",
            "text/html": "<div>\n<style scoped>\n    .dataframe tbody tr th:only-of-type {\n        vertical-align: middle;\n    }\n\n    .dataframe tbody tr th {\n        vertical-align: top;\n    }\n\n    .dataframe thead th {\n        text-align: right;\n    }\n</style>\n<table border=\"1\" class=\"dataframe\">\n  <thead>\n    <tr style=\"text-align: right;\">\n      <th></th>\n      <th>N</th>\n      <th>P</th>\n      <th>K</th>\n      <th>pH</th>\n    </tr>\n  </thead>\n  <tbody>\n    <tr>\n      <th>0</th>\n      <td>80</td>\n      <td>60</td>\n      <td>60</td>\n      <td>5.5</td>\n    </tr>\n  </tbody>\n</table>\n</div>"
          },
          "metadata": {}
        }
      ],
      "execution_count": 14
    },
    {
      "cell_type": "code",
      "source": "predicted_crop2 = bayes.predict(df)[0]\npredicted_crop2",
      "metadata": {
        "trusted": true
      },
      "outputs": [
        {
          "execution_count": 20,
          "output_type": "execute_result",
          "data": {
            "text/plain": "'jute'"
          },
          "metadata": {}
        }
      ],
      "execution_count": 20
    },
    {
      "cell_type": "code",
      "source": "import pickle\nNB_Model_pkl = open('naive_bayes_classifier.pkl', 'wb')\npickle.dump(bayes, NB_Model_pkl)\nNB_Model_pkl.close()",
      "metadata": {
        "trusted": true
      },
      "outputs": [],
      "execution_count": 23
    },
    {
      "cell_type": "code",
      "source": "NB_pkl = open('naive_bayes_classifier.pkl', 'rb')\nNB_model = pickle.load(NB_pkl)",
      "metadata": {
        "trusted": true
      },
      "outputs": [],
      "execution_count": 25
    },
    {
      "cell_type": "code",
      "source": "test_pred = NB_model.predict(df)[0]\ntest_pred",
      "metadata": {
        "trusted": true
      },
      "outputs": [
        {
          "execution_count": 26,
          "output_type": "execute_result",
          "data": {
            "text/plain": "'jute'"
          },
          "metadata": {}
        }
      ],
      "execution_count": 26
    }
  ]
}